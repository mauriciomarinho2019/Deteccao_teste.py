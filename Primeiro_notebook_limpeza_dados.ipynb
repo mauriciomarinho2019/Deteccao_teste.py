{
  "nbformat": 4,
  "nbformat_minor": 0,
  "metadata": {
    "colab": {
      "name": "Primeiro_notebook_limpeza_dados",
      "private_outputs": true,
      "provenance": [],
      "authorship_tag": "ABX9TyMTOcDE8a8p8AivETlby8UW",
      "include_colab_link": true
    },
    "kernelspec": {
      "name": "python3",
      "display_name": "Python 3"
    },
    "language_info": {
      "name": "python"
    }
  },
  "cells": [
    {
      "cell_type": "markdown",
      "metadata": {
        "id": "view-in-github",
        "colab_type": "text"
      },
      "source": [
        "<a href=\"https://colab.research.google.com/github/mauriciomarinho2019/Deteccao_teste.py/blob/main/Primeiro_notebook_limpeza_dados.ipynb\" target=\"_parent\"><img src=\"https://colab.research.google.com/assets/colab-badge.svg\" alt=\"Open In Colab\"/></a>"
      ]
    },
    {
      "cell_type": "code",
      "execution_count": null,
      "metadata": {
        "id": "j2CCWaRybtlZ"
      },
      "outputs": [],
      "source": [
        "#Primeiro Notebook de Limpeza de Dados# \n"
      ]
    }
  ]
}