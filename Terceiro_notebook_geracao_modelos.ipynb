{
  "nbformat": 4,
  "nbformat_minor": 0,
  "metadata": {
    "colab": {
      "name": "Terceiro_notebook_geracao_modelos",
      "private_outputs": true,
      "provenance": [],
      "authorship_tag": "ABX9TyOgEnHECSua7DIjgMiy7ZVP",
      "include_colab_link": true
    },
    "kernelspec": {
      "name": "python3",
      "display_name": "Python 3"
    },
    "language_info": {
      "name": "python"
    }
  },
  "cells": [
    {
      "cell_type": "markdown",
      "metadata": {
        "id": "view-in-github",
        "colab_type": "text"
      },
      "source": [
        "<a href=\"https://colab.research.google.com/github/mauriciomarinho2019/Deteccao_teste.py/blob/main/Terceiro_notebook_geracao_modelos.ipynb\" target=\"_parent\"><img src=\"https://colab.research.google.com/assets/colab-badge.svg\" alt=\"Open In Colab\"/></a>"
      ]
    },
    {
      "cell_type": "code",
      "execution_count": null,
      "metadata": {
        "id": "GbdbKskGct1o"
      },
      "outputs": [],
      "source": [
        "#Terceiro_notebook_geracao_modelos#\n"
      ]
    }
  ]
}