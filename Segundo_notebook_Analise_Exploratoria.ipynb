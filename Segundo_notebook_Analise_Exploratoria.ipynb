{
  "nbformat": 4,
  "nbformat_minor": 0,
  "metadata": {
    "colab": {
      "name": "Segundo_notebook_Analise_Exploratoria",
      "private_outputs": true,
      "provenance": [],
      "authorship_tag": "ABX9TyM1fzhQaIrA3g8+pvuSM8Hb",
      "include_colab_link": true
    },
    "kernelspec": {
      "name": "python3",
      "display_name": "Python 3"
    },
    "language_info": {
      "name": "python"
    }
  },
  "cells": [
    {
      "cell_type": "markdown",
      "metadata": {
        "id": "view-in-github",
        "colab_type": "text"
      },
      "source": [
        "<a href=\"https://colab.research.google.com/github/mauriciomarinho2019/Deteccao_teste.py/blob/main/Segundo_notebook_Analise_Exploratoria.ipynb\" target=\"_parent\"><img src=\"https://colab.research.google.com/assets/colab-badge.svg\" alt=\"Open In Colab\"/></a>"
      ]
    },
    {
      "cell_type": "code",
      "execution_count": null,
      "metadata": {
        "id": "G3h_TOIFcO19"
      },
      "outputs": [],
      "source": [
        "#Segundo_notebook_Analise_Exploratoria#\n"
      ]
    }
  ]
}